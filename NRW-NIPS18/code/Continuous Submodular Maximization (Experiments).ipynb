{
 "cells": [
  {
   "cell_type": "code",
   "execution_count": null,
   "metadata": {
    "collapsed": true,
    "scrolled": true
   },
   "outputs": [],
   "source": [
    "%matplotlib inline\n",
    "\n",
    "import matplotlib\n",
    "import matplotlib.pyplot as plt\n",
    "import numpy as np\n",
    "import scipy\n",
    "\n",
    "from numpy import random\n",
    "from scipy.stats import uniform\n",
    "from scipy.sparse import linalg, random"
   ]
  },
  {
   "cell_type": "code",
   "execution_count": null,
   "metadata": {
    "collapsed": true
   },
   "outputs": [],
   "source": [
    "# Parameters\n",
    "m = n = 100\n",
    "rv_magnitude = 1\n",
    "dens = 1.0\n",
    "lower = np.zeros(n)\n",
    "upper = np.ones(n)\n",
    "EPS = 0.01\n",
    "num_trials = 20"
   ]
  },
  {
   "cell_type": "code",
   "execution_count": null,
   "metadata": {
    "collapsed": true
   },
   "outputs": [],
   "source": [
    "def evaluate_with_replacement(f, i, x, z):\n",
    "    \"Evaluates f(x_{-i}, z)\"\n",
    "    xi = x[i]\n",
    "    x[i] = z\n",
    "    val = f(x)\n",
    "    x[i] = xi\n",
    "    return val"
   ]
  },
  {
   "cell_type": "code",
   "execution_count": null,
   "metadata": {
    "collapsed": true
   },
   "outputs": [],
   "source": [
    "def diff(f, i, x):\n",
    "    \"Approximately computes the ith derivative of f at x.\"\n",
    "    old_value = f(x)\n",
    "    new_value = evaluate_with_replacement(f, i, x, x[i] + EPS)\n",
    "    \n",
    "    return (new_value - old_value) / EPS"
   ]
  },
  {
   "cell_type": "code",
   "execution_count": null,
   "metadata": {
    "collapsed": true
   },
   "outputs": [],
   "source": [
    "def optimize(f, i, x, low, high):\n",
    "    \"Approximately computes argmax_{z} f(x_{-i}, z).\"\n",
    "    best_value = f(x)\n",
    "    best_xi = x[i]\n",
    "    \n",
    "    for z in np.arange(low, high+EPS, EPS):\n",
    "        curr_value = evaluate_with_replacement(f, i, x, z)\n",
    "        if curr_value > best_value:\n",
    "            best_value = curr_value\n",
    "            best_xi = z\n",
    "    \n",
    "    return best_xi"
   ]
  },
  {
   "cell_type": "code",
   "execution_count": null,
   "metadata": {
    "collapsed": true
   },
   "outputs": [],
   "source": [
    "def generate_quadratic_test_function():\n",
    "    \"Generates a function f of the form (1/2 x^T H x + h^T x + c).\"\n",
    "    # Decide H\n",
    "    rvs = scipy.stats.uniform(loc=-rv_magnitude, scale=rv_magnitude).rvs\n",
    "    H = scipy.sparse.random(m, n, density=dens, data_rvs = rvs)\n",
    "    H = 0.5 * H + 0.5 * H.transpose() # Symmetrize H\n",
    "    # Decide h\n",
    "    h = np.random.uniform(0.0, 1.0, n)\n",
    "    # Pick the right constant c so that f(lower) + f(upper) = 0\n",
    "    c = -0.5 * (0.5 * np.dot(upper, H.dot(upper)) + np.dot(h, upper) +\n",
    "                0.5 * np.dot(lower, H.dot(lower)) + np.dot(h, lower))\n",
    "    def f(x):\n",
    "        \"0.5 x^T H x - h^t x + c\"\n",
    "        return 0.5 * np.dot(x, H.dot(x)) + np.dot(h, x) + c\n",
    "    return (f, H, h, c)"
   ]
  },
  {
   "cell_type": "code",
   "execution_count": null,
   "metadata": {
    "collapsed": true
   },
   "outputs": [],
   "source": [
    "def generate_weak_quadratic_test_function():\n",
    "    \"Generates a function f of the form (1/2 x^T H x + h^T x + c).\"\n",
    "    # Decide H\n",
    "    rvs = scipy.stats.uniform(loc=-rv_magnitude, scale=rv_magnitude).rvs\n",
    "    H = scipy.sparse.random(m, n, density=dens, data_rvs = rvs)\n",
    "    H = 0.5 * H + 0.5 * H.transpose() # Symmetrize H\n",
    "    # Make the diagonal entries of H positive\n",
    "    for i in range(n):\n",
    "        H[i,i] = -H[i,i]\n",
    "    # Decide h\n",
    "    h = np.random.uniform(0.0, 1.0, n)\n",
    "    # Pick the right constant c so that f(lower) + f(upper) = 0\n",
    "    c = -0.5 * (0.5 * np.dot(upper, H.dot(upper)) + np.dot(h, upper) +\n",
    "                0.5 * np.dot(lower, H.dot(lower)) + np.dot(h, lower))\n",
    "    def f(x):\n",
    "        \"0.5 x^T H x - h^t x + c\"\n",
    "        return 0.5 * np.dot(x, H.dot(x)) + np.dot(h, x) + c\n",
    "    return (f, H, h, c)"
   ]
  },
  {
   "cell_type": "code",
   "execution_count": null,
   "metadata": {
    "collapsed": true
   },
   "outputs": [],
   "source": [
    "def generate_softmax_test_function():\n",
    "    eigens = np.exp(np.random.uniform(-0.5, 1.0, n))\n",
    "    D = scipy.sparse.diags(eigens, 0)\n",
    "    V = scipy.linalg.orth(np.random.uniform(0.0, 1.0, (n, n)))\n",
    "    L = V.dot(D.dot(V.transpose()))\n",
    "    I = np.identity(n)\n",
    "    def f(x):\n",
    "        return np.log(scipy.linalg.det(scipy.sparse.diags(x).dot(L - I) + I))\n",
    "    return (f, L, D, V)"
   ]
  },
  {
   "cell_type": "code",
   "execution_count": null,
   "metadata": {
    "collapsed": true
   },
   "outputs": [],
   "source": [
    "def BMBK(f, x, y, i):\n",
    "    \"Returns the new value for x_i and y_i according to BMBK\"\n",
    "    ux = x[i]\n",
    "    uy = y[i]\n",
    "    ua = optimize(f, i, x, ux, uy)\n",
    "    ub = optimize(f, i, y, ux, uy)\n",
    "    \n",
    "    a1 = f(x)\n",
    "    x[i] = ua; a2 = f(x); x[i] = ux\n",
    "    \n",
    "    b1 = f(y)\n",
    "    y[i] = ub; b2 = f(y); y[i] = uy\n",
    "    \n",
    "    if a2-a1 >= b2-b1:\n",
    "        return ua\n",
    "    else:\n",
    "        return ub"
   ]
  },
  {
   "cell_type": "code",
   "execution_count": null,
   "metadata": {
    "collapsed": true
   },
   "outputs": [],
   "source": [
    "def BINARY(f, x, y, i):\n",
    "    \"Returns the new value for x_i and y_i according to our binary search criterion.\"\n",
    "    low = ux = x[i]\n",
    "    high = uy = y[i]\n",
    "    \n",
    "    while high - low > EPS:\n",
    "        mid = (low + high) / 2.0\n",
    "        \n",
    "        x[i] = y[i] = mid\n",
    "        xslope = diff(f, i, x) # decreasing in m\n",
    "        yslope = -diff(f, i, y) # increasing in m\n",
    "        \n",
    "        if (mid - ux) * yslope <= (uy - mid) * xslope: # LHS is increasing in m, RHS is decreasing in m\n",
    "            low = mid\n",
    "        else:\n",
    "            high = mid\n",
    "    x[i] = ux\n",
    "    y[i] = uy\n",
    "    return low"
   ]
  },
  {
   "cell_type": "code",
   "execution_count": null,
   "metadata": {
    "collapsed": true
   },
   "outputs": [],
   "source": [
    "def concave_envelope(g, h, low, high):\n",
    "    st = []\n",
    "    # Trace out a (g, h) curve from (0, beta) to (alpha, 0)\n",
    "    for curr in np.arange(low, high + 0.5 * EPS, EPS):\n",
    "        st.append((g(curr), h(curr), curr))\n",
    "        # If a point isn't to the right of the previous one, then weak-DR implies that it is below.\n",
    "        if len(st) >= 2 and st[-1][0] <= st[-2][0]:\n",
    "            st.pop()\n",
    "        while len(st) >= 3 and (st[-1][1] - st[-2][1]) * (st[-2][0] - st[-3][0]) >= (st[-2][1] - st[-3][1]) * (st[-1][0] - st[-2][0]):\n",
    "            st.pop(-2)\n",
    "    return st\n",
    "\n",
    "def GAME(f, x, y, i):\n",
    "    \"Returns the new value for x_i and y_i according to our game criterion.\"\n",
    "    ux = x[i]\n",
    "    uy = y[i]\n",
    "    zl = optimize(f, i, y, ux, uy)\n",
    "    zu = optimize(f, i, x, ux, uy)\n",
    "    \n",
    "    if zu <= zl:\n",
    "        return zl # doesn't matter which between ua or ub\n",
    "                  \n",
    "    def g(z):\n",
    "        return evaluate_with_replacement(f, i, x, z) - evaluate_with_replacement(f, i, x, zl)\n",
    "    def h(z):\n",
    "        return evaluate_with_replacement(f, i, y, z) - evaluate_with_replacement(f, i, y, zu)\n",
    "    \n",
    "    alpha = g(zu)\n",
    "    beta = h(zl)\n",
    "    \n",
    "    envelope = concave_envelope(g, h, zl, zu)\n",
    "    \n",
    "    def line_distance(p):\n",
    "        return (p[0] - alpha) - (p[1] - beta)\n",
    "    \n",
    "    for i in range(len(envelope) - 1):\n",
    "        d1 = line_distance(envelope[i])\n",
    "        d2 = line_distance(envelope[i+1])\n",
    "        if (d1 <= 0) and (d2 >= 0):\n",
    "            lmda = d2 / (d2 - d1)\n",
    "            if np.random.binomial(1, lmda) == 1:\n",
    "                return envelope[i][2]\n",
    "            else:\n",
    "                return envelope[i+1][2]\n",
    "    "
   ]
  },
  {
   "cell_type": "code",
   "execution_count": null,
   "metadata": {
    "collapsed": true
   },
   "outputs": [],
   "source": [
    "def DoubleGreedyFramework(f, lower, upper, selection_alg):\n",
    "    \"Runs the BFNS framework for submodular maximization.\"\n",
    "    perm = np.random.permutation(n)\n",
    "    x = np.copy(lower)\n",
    "    y = np.copy(upper)\n",
    "    for i in perm:\n",
    "        # Make x and y agree on coordinate i\n",
    "        x[i] = y[i] = selection_alg(f, x, y, i)\n",
    "    return x"
   ]
  },
  {
   "cell_type": "code",
   "execution_count": null,
   "metadata": {},
   "outputs": [],
   "source": [
    "# Experiment 1\n",
    "vals_BMBK = []\n",
    "vals_GAME = []\n",
    "vals_BINARY = []\n",
    "functions = []\n",
    "for x in range(num_trials):\n",
    "    (f, H, h, c) = generate_quadratic_test_function()\n",
    "    functions.append(f)\n",
    "    \n",
    "    sln_BMBK = DoubleGreedyFramework(f, lower, upper, BMBK)\n",
    "    sln_GAME = DoubleGreedyFramework(f, lower, upper, GAME)\n",
    "    sln_BINARY = DoubleGreedyFramework(f, lower, upper, BINARY)\n",
    "    \n",
    "    val_BMBK = f(sln_BMBK)\n",
    "    val_GAME = f(sln_GAME)\n",
    "    val_BINARY = f(sln_BINARY)\n",
    "    \n",
    "    vals_BMBK.append(val_BMBK)\n",
    "    vals_GAME.append(val_GAME)\n",
    "    vals_BINARY.append(val_BINARY)"
   ]
  },
  {
   "cell_type": "code",
   "execution_count": null,
   "metadata": {},
   "outputs": [],
   "source": [
    "print(\"BMBK: %f\" % np.mean(vals_BMBK))\n",
    "print(\"GAME: %f\" % np.mean(vals_GAME))\n",
    "print(\"BINARY: %f\" % np.mean(vals_BINARY))"
   ]
  },
  {
   "cell_type": "code",
   "execution_count": null,
   "metadata": {},
   "outputs": [],
   "source": [
    "fig = plt.figure()\n",
    "plt.boxplot([vals_BMBK, vals_GAME, vals_BINARY], labels=['BMBK', 'Game Strategy', 'Binary Search'])\n",
    "# plt.savefig('QPstrong.png', dpi=fig.dpi)"
   ]
  },
  {
   "cell_type": "code",
   "execution_count": null,
   "metadata": {
    "collapsed": true
   },
   "outputs": [],
   "source": [
    "# Experiment 2\n",
    "vals_BMBK = []\n",
    "vals_GAME = []\n",
    "vals_BINARY = []\n",
    "functions = []\n",
    "for x in range(num_trials):\n",
    "    (f, H, h, c) = generate_weak_quadratic_test_function()\n",
    "    functions.append(f)\n",
    "    \n",
    "    sln_BMBK = DoubleGreedyFramework(f, lower, upper, BMBK)\n",
    "    sln_GAME = DoubleGreedyFramework(f, lower, upper, GAME)\n",
    "    sln_BINARY = DoubleGreedyFramework(f, lower, upper, BINARY)\n",
    "    \n",
    "    val_BMBK = f(sln_BMBK)\n",
    "    val_GAME = f(sln_GAME)\n",
    "    val_BINARY = f(sln_BINARY)\n",
    "    \n",
    "    vals_BMBK.append(val_BMBK)\n",
    "    vals_GAME.append(val_GAME)\n",
    "    vals_BINARY.append(val_BINARY)"
   ]
  },
  {
   "cell_type": "code",
   "execution_count": null,
   "metadata": {},
   "outputs": [],
   "source": [
    "print(\"BMBK: %f\" % np.mean(vals_BMBK))\n",
    "print(\"GAME: %f\" % np.mean(vals_GAME))\n",
    "print(\"BINARY: %f\" % np.mean(vals_BINARY))"
   ]
  },
  {
   "cell_type": "code",
   "execution_count": null,
   "metadata": {},
   "outputs": [],
   "source": [
    "fig = plt.figure()\n",
    "plt.boxplot([vals_BMBK, vals_GAME, vals_BINARY], labels=['BMBK', 'Game Strategy', 'Binary Search'])\n",
    "# plt.savefig('QPweak.png', dpi=fig.dpi)"
   ]
  },
  {
   "cell_type": "code",
   "execution_count": null,
   "metadata": {
    "collapsed": true
   },
   "outputs": [],
   "source": [
    "# Experiment 3\n",
    "vals_BMBK = []\n",
    "vals_GAME = []\n",
    "vals_BINARY = []\n",
    "functions = []\n",
    "for x in range(num_trials):\n",
    "    (f, L, D, V) = generate_softmax_test_function()\n",
    "    functions.append(f)\n",
    "    \n",
    "    sln_BMBK = DoubleGreedyFramework(f, lower, upper, BMBK)\n",
    "    sln_GAME = DoubleGreedyFramework(f, lower, upper, GAME)\n",
    "    sln_BINARY = DoubleGreedyFramework(f, lower, upper, BINARY)\n",
    "    \n",
    "    val_BMBK = f(sln_BMBK)\n",
    "    val_GAME = f(sln_GAME)\n",
    "    val_BINARY = f(sln_BINARY)\n",
    "    \n",
    "    vals_BMBK.append(val_BMBK)\n",
    "    vals_GAME.append(val_GAME)\n",
    "    vals_BINARY.append(val_BINARY)"
   ]
  },
  {
   "cell_type": "code",
   "execution_count": null,
   "metadata": {},
   "outputs": [],
   "source": [
    "print(\"BMBK: %f\" % np.mean(vals_BMBK))\n",
    "print(\"GAME: %f\" % np.mean(vals_GAME))\n",
    "print(\"BINARY: %f\" % np.mean(vals_BINARY))"
   ]
  },
  {
   "cell_type": "code",
   "execution_count": null,
   "metadata": {},
   "outputs": [],
   "source": [
    "fig = plt.figure()\n",
    "plt.boxplot([vals_BMBK, vals_GAME, vals_BINARY], labels=['BMBK', 'Game Strategy', 'Binary Search'])\n",
    "# plt.savefig('softmax.png', dpi=fig.dpi)"
   ]
  },
  {
   "cell_type": "code",
   "execution_count": null,
   "metadata": {
    "collapsed": true
   },
   "outputs": [],
   "source": []
  }
 ],
 "metadata": {
  "kernelspec": {
   "display_name": "Python 3",
   "language": "python",
   "name": "python3"
  },
  "language_info": {
   "codemirror_mode": {
    "name": "ipython",
    "version": 3
   },
   "file_extension": ".py",
   "mimetype": "text/x-python",
   "name": "python",
   "nbconvert_exporter": "python",
   "pygments_lexer": "ipython3",
   "version": "3.6.1"
  }
 },
 "nbformat": 4,
 "nbformat_minor": 2
}
